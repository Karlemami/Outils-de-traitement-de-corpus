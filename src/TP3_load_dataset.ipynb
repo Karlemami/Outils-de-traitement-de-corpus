{
 "cells": [
  {
   "cell_type": "code",
   "execution_count": 7,
   "metadata": {},
   "outputs": [],
   "source": [
    "import pandas as pd\n",
    "from datasets import Dataset"
   ]
  },
  {
   "cell_type": "code",
   "execution_count": 4,
   "metadata": {},
   "outputs": [
    {
     "data": {
      "text/html": [
       "<div>\n",
       "<style scoped>\n",
       "    .dataframe tbody tr th:only-of-type {\n",
       "        vertical-align: middle;\n",
       "    }\n",
       "\n",
       "    .dataframe tbody tr th {\n",
       "        vertical-align: top;\n",
       "    }\n",
       "\n",
       "    .dataframe thead th {\n",
       "        text-align: right;\n",
       "    }\n",
       "</style>\n",
       "<table border=\"1\" class=\"dataframe\">\n",
       "  <thead>\n",
       "    <tr style=\"text-align: right;\">\n",
       "      <th></th>\n",
       "      <th>size</th>\n",
       "      <th>sha</th>\n",
       "      <th>language</th>\n",
       "      <th>file_path_in_repo</th>\n",
       "      <th>repo_url</th>\n",
       "      <th>repo_licences</th>\n",
       "      <th>stars_count</th>\n",
       "      <th>issues_count</th>\n",
       "      <th>forks_count</th>\n",
       "      <th>content</th>\n",
       "    </tr>\n",
       "  </thead>\n",
       "  <tbody>\n",
       "    <tr>\n",
       "      <th>0</th>\n",
       "      <td>24</td>\n",
       "      <td>40a96afc6ff09d58a702b76e3f7dd412fe975e26</td>\n",
       "      <td>python</td>\n",
       "      <td>scripts/tests/__init__.py</td>\n",
       "      <td>https://github.com/public-apis/public-apis</td>\n",
       "      <td>MIT</td>\n",
       "      <td>292277</td>\n",
       "      <td>254</td>\n",
       "      <td>31819</td>\n",
       "      <td># -*- coding: utf-8 -*-\\n</td>\n",
       "    </tr>\n",
       "    <tr>\n",
       "      <th>1</th>\n",
       "      <td>18154</td>\n",
       "      <td>7cf55604e31cd335244ca1e5b161c033cd988d06</td>\n",
       "      <td>python</td>\n",
       "      <td>scripts/tests/test_validate_format.py</td>\n",
       "      <td>https://github.com/public-apis/public-apis</td>\n",
       "      <td>MIT</td>\n",
       "      <td>292277</td>\n",
       "      <td>254</td>\n",
       "      <td>31819</td>\n",
       "      <td># -*- coding: utf-8 -*-\\n\\nimport unittest\\n\\n...</td>\n",
       "    </tr>\n",
       "    <tr>\n",
       "      <th>2</th>\n",
       "      <td>5725</td>\n",
       "      <td>64eae88855db18a5fa803220fcf2462f7669042f</td>\n",
       "      <td>python</td>\n",
       "      <td>scripts/tests/test_validate_links.py</td>\n",
       "      <td>https://github.com/public-apis/public-apis</td>\n",
       "      <td>MIT</td>\n",
       "      <td>292277</td>\n",
       "      <td>254</td>\n",
       "      <td>31819</td>\n",
       "      <td># -*- coding: utf-8 -*-\\n\\nimport unittest\\n\\n...</td>\n",
       "    </tr>\n",
       "    <tr>\n",
       "      <th>3</th>\n",
       "      <td>80</td>\n",
       "      <td>4287dcc89cdc905b662bd4dd2a719dfa973ed3c2</td>\n",
       "      <td>python</td>\n",
       "      <td>scripts/validate/__init__.py</td>\n",
       "      <td>https://github.com/public-apis/public-apis</td>\n",
       "      <td>MIT</td>\n",
       "      <td>292277</td>\n",
       "      <td>254</td>\n",
       "      <td>31819</td>\n",
       "      <td># -*- coding: utf-8 -*-\\n\\nfrom validate impor...</td>\n",
       "    </tr>\n",
       "    <tr>\n",
       "      <th>4</th>\n",
       "      <td>8464</td>\n",
       "      <td>092595dc0015c1d76d19b8631754e35ecd8af7fd</td>\n",
       "      <td>python</td>\n",
       "      <td>scripts/validate/format.py</td>\n",
       "      <td>https://github.com/public-apis/public-apis</td>\n",
       "      <td>MIT</td>\n",
       "      <td>292277</td>\n",
       "      <td>254</td>\n",
       "      <td>31819</td>\n",
       "      <td># -*- coding: utf-8 -*-\\n\\nimport re\\nimport s...</td>\n",
       "    </tr>\n",
       "  </tbody>\n",
       "</table>\n",
       "</div>"
      ],
      "text/plain": [
       "    size                                       sha language  \\\n",
       "0     24  40a96afc6ff09d58a702b76e3f7dd412fe975e26   python   \n",
       "1  18154  7cf55604e31cd335244ca1e5b161c033cd988d06   python   \n",
       "2   5725  64eae88855db18a5fa803220fcf2462f7669042f   python   \n",
       "3     80  4287dcc89cdc905b662bd4dd2a719dfa973ed3c2   python   \n",
       "4   8464  092595dc0015c1d76d19b8631754e35ecd8af7fd   python   \n",
       "\n",
       "                       file_path_in_repo  \\\n",
       "0              scripts/tests/__init__.py   \n",
       "1  scripts/tests/test_validate_format.py   \n",
       "2   scripts/tests/test_validate_links.py   \n",
       "3           scripts/validate/__init__.py   \n",
       "4             scripts/validate/format.py   \n",
       "\n",
       "                                     repo_url repo_licences  stars_count  \\\n",
       "0  https://github.com/public-apis/public-apis           MIT       292277   \n",
       "1  https://github.com/public-apis/public-apis           MIT       292277   \n",
       "2  https://github.com/public-apis/public-apis           MIT       292277   \n",
       "3  https://github.com/public-apis/public-apis           MIT       292277   \n",
       "4  https://github.com/public-apis/public-apis           MIT       292277   \n",
       "\n",
       "   issues_count  forks_count  \\\n",
       "0           254        31819   \n",
       "1           254        31819   \n",
       "2           254        31819   \n",
       "3           254        31819   \n",
       "4           254        31819   \n",
       "\n",
       "                                             content  \n",
       "0                          # -*- coding: utf-8 -*-\\n  \n",
       "1  # -*- coding: utf-8 -*-\\n\\nimport unittest\\n\\n...  \n",
       "2  # -*- coding: utf-8 -*-\\n\\nimport unittest\\n\\n...  \n",
       "3  # -*- coding: utf-8 -*-\\n\\nfrom validate impor...  \n",
       "4  # -*- coding: utf-8 -*-\\n\\nimport re\\nimport s...  "
      ]
     },
     "execution_count": 4,
     "metadata": {},
     "output_type": "execute_result"
    }
   ],
   "source": [
    "df = pd.read_json('../corpus.json',lines=True)\n",
    "df.head()"
   ]
  },
  {
   "cell_type": "code",
   "execution_count": 13,
   "metadata": {},
   "outputs": [
    {
     "data": {
      "text/plain": [
       "Dataset({\n",
       "    features: ['size', 'sha', 'language', 'file_path_in_repo', 'repo_url', 'repo_licences', 'stars_count', 'issues_count', 'forks_count', 'content'],\n",
       "    num_rows: 33\n",
       "})"
      ]
     },
     "execution_count": 13,
     "metadata": {},
     "output_type": "execute_result"
    }
   ],
   "source": [
    "dataset = Dataset.from_pandas(df)\n",
    "dataset"
   ]
  }
 ],
 "metadata": {
  "kernelspec": {
   "display_name": "ml",
   "language": "python",
   "name": "python3"
  },
  "language_info": {
   "codemirror_mode": {
    "name": "ipython",
    "version": 3
   },
   "file_extension": ".py",
   "mimetype": "text/x-python",
   "name": "python",
   "nbconvert_exporter": "python",
   "pygments_lexer": "ipython3",
   "version": "3.12.3"
  }
 },
 "nbformat": 4,
 "nbformat_minor": 2
}
